{
 "cells": [
  {
   "cell_type": "code",
   "execution_count": 1,
   "metadata": {},
   "outputs": [
    {
     "name": "stderr",
     "output_type": "stream",
     "text": [
      "/home/jhooge/miniconda3/envs/deeplearning/lib/python3.6/site-packages/h5py/__init__.py:36: FutureWarning: Conversion of the second argument of issubdtype from `float` to `np.floating` is deprecated. In future, it will be treated as `np.float64 == np.dtype(float).type`.\n",
      "  from ._conv import register_converters as _register_converters\n"
     ]
    }
   ],
   "source": [
    "import os\n",
    "\n",
    "import tensorflow as tf\n",
    "import numpy as np\n",
    "import matplotlib.pyplot as plt\n",
    "\n",
    "from datetime import datetime\n",
    "\n",
    "os.environ[\"CUDA_VISIBLE_DEVICES\"]=\"1\""
   ]
  },
  {
   "cell_type": "markdown",
   "metadata": {},
   "source": [
    "## Construction Phase"
   ]
  },
  {
   "cell_type": "code",
   "execution_count": 2,
   "metadata": {},
   "outputs": [],
   "source": [
    "# see p. 268 Géron\n",
    "\n",
    "def neuron_layer(X, n_neurons, name, activation=None):\n",
    "    with tf.name_scope(name):\n",
    "        n_inputs = int(X.get_shape()[1])\n",
    "        ## truncated gaussian to avoid large weight inits\n",
    "        stddev = 2 / np.sqrt(n_inputs + n_neurons) \n",
    "        init = tf.truncated_normal((n_inputs, n_neurons), stddev=stddev)\n",
    "        W = tf.Variable(init, name=\"kernel\")\n",
    "        b = tf.Variable(tf.zeros([n_neurons]), name=\"bias\")\n",
    "        Z = tf.matmul(X, W) + b\n",
    "        if activation is not None:\n",
    "            return(activation(Z))\n",
    "        else:\n",
    "            return(Z)    "
   ]
  },
  {
   "cell_type": "code",
   "execution_count": 3,
   "metadata": {},
   "outputs": [],
   "source": [
    "n_inputs = 28*28\n",
    "n_hidden = 300\n",
    "n_hidden2 = 100\n",
    "n_outputs = 10"
   ]
  },
  {
   "cell_type": "code",
   "execution_count": 4,
   "metadata": {},
   "outputs": [],
   "source": [
    "X = tf.placeholder(tf.float32, shape=(None, n_inputs), name=\"X\")\n",
    "y = tf.placeholder(tf.int64, shape=(None), name=\"y\")\n",
    "\n",
    "#with tf.name_scope(\"dnn\"):\n",
    "#    hidden1 = neuron_layer(X, n_hidden, name=\"hidden1\",\n",
    "#                          activation=tf.nn.relu)\n",
    "#    hidden2 = neuron_layer(hidden1, n_hidden2, name=\"hidden2\",\n",
    "#                          activation=tf.nn.relu)\n",
    "#    logits = neuron_layer(hidden2, n_outputs, name=\"outputs\")\n",
    "\n",
    "learning_rate= 0.01\n",
    "\n",
    "with tf.name_scope(\"dnn\"):\n",
    "    hidden1 = tf.layers.dense(X, n_hidden, name=\"hidden1\",\n",
    "                          activation=tf.nn.relu)\n",
    "    hidden2 = tf.layers.dense(hidden1, n_hidden2, name=\"hidden2\",\n",
    "                          activation=tf.nn.relu)\n",
    "    logits = tf.layers.dense(hidden2, n_outputs, name=\"outputs\")\n",
    "    \n",
    "with tf.name_scope(\"loss\"):\n",
    "    xentropy = tf.nn.sparse_softmax_cross_entropy_with_logits(labels=y, logits=logits)\n",
    "    loss = tf.reduce_mean(xentropy, name=\"loss\")\n",
    "\n",
    "with tf.name_scope(\"train\"):\n",
    "    optimizer = tf.train.GradientDescentOptimizer(learning_rate)\n",
    "    training_op = optimizer.minimize(loss)\n",
    "\n",
    "with tf.name_scope(\"eval\"):\n",
    "    correct = tf.nn.in_top_k(logits, y, 1)\n",
    "    accuracy = tf.reduce_mean(tf.cast(correct, tf.float32))"
   ]
  },
  {
   "cell_type": "code",
   "execution_count": 5,
   "metadata": {},
   "outputs": [],
   "source": [
    "from datetime import datetime\n",
    "\n",
    "now = datetime.utcnow().strftime(\"%Y%m%d-%H%M%S\")\n",
    "root_logdir = \"tf_logs\"\n",
    "logdir = \"{}/run-{}/\".format(root_logdir,now)\n",
    "\n",
    "acc_train_summary = tf.summary.scalar(\"acc_train\", accuracy)\n",
    "acc_val_summary = tf.summary.scalar(\"acc_val\", accuracy)\n",
    "\n",
    "file_writer = tf.summary.FileWriter(logdir, tf.get_default_graph())\n",
    "\n",
    "init = tf.global_variables_initializer()\n",
    "saver = tf.train.Saver()"
   ]
  },
  {
   "cell_type": "markdown",
   "metadata": {},
   "source": [
    "## Execution Phase"
   ]
  },
  {
   "cell_type": "code",
   "execution_count": 6,
   "metadata": {},
   "outputs": [
    {
     "name": "stdout",
     "output_type": "stream",
     "text": [
      "Extracting ./tmp/data/train-images-idx3-ubyte.gz\n",
      "Extracting ./tmp/data/train-labels-idx1-ubyte.gz\n",
      "Extracting ./tmp/data/t10k-images-idx3-ubyte.gz\n",
      "Extracting ./tmp/data/t10k-labels-idx1-ubyte.gz\n"
     ]
    }
   ],
   "source": [
    "from tensorflow.examples.tutorials.mnist import input_data\n",
    "\n",
    "mnist = input_data.read_data_sets(\"./tmp/data/\")"
   ]
  },
  {
   "cell_type": "code",
   "execution_count": 7,
   "metadata": {},
   "outputs": [
    {
     "name": "stdout",
     "output_type": "stream",
     "text": [
      "0 Train Accuracy:  0.9 Validation Accuracy:  0.902\n",
      "1 Train Accuracy:  0.98 Validation Accuracy:  0.924\n",
      "2 Train Accuracy:  0.84 Validation Accuracy:  0.9342\n",
      "3 Train Accuracy:  0.92 Validation Accuracy:  0.9414\n",
      "4 Train Accuracy:  0.92 Validation Accuracy:  0.9478\n",
      "5 Train Accuracy:  0.86 Validation Accuracy:  0.953\n",
      "6 Train Accuracy:  0.98 Validation Accuracy:  0.9554\n",
      "7 Train Accuracy:  0.98 Validation Accuracy:  0.9584\n",
      "8 Train Accuracy:  0.94 Validation Accuracy:  0.9594\n",
      "9 Train Accuracy:  0.92 Validation Accuracy:  0.9636\n",
      "10 Train Accuracy:  0.98 Validation Accuracy:  0.9646\n",
      "11 Train Accuracy:  0.96 Validation Accuracy:  0.9658\n",
      "12 Train Accuracy:  0.98 Validation Accuracy:  0.9688\n",
      "13 Train Accuracy:  0.98 Validation Accuracy:  0.9674\n",
      "14 Train Accuracy:  0.92 Validation Accuracy:  0.9704\n",
      "15 Train Accuracy:  0.98 Validation Accuracy:  0.9716\n",
      "16 Train Accuracy:  0.98 Validation Accuracy:  0.9714\n",
      "17 Train Accuracy:  1.0 Validation Accuracy:  0.972\n",
      "18 Train Accuracy:  0.98 Validation Accuracy:  0.9738\n",
      "19 Train Accuracy:  0.98 Validation Accuracy:  0.9752\n",
      "20 Train Accuracy:  1.0 Validation Accuracy:  0.9744\n",
      "21 Train Accuracy:  0.98 Validation Accuracy:  0.9736\n",
      "22 Train Accuracy:  0.98 Validation Accuracy:  0.976\n",
      "23 Train Accuracy:  1.0 Validation Accuracy:  0.9756\n",
      "24 Train Accuracy:  1.0 Validation Accuracy:  0.9752\n",
      "25 Train Accuracy:  1.0 Validation Accuracy:  0.9772\n",
      "26 Train Accuracy:  0.98 Validation Accuracy:  0.9772\n",
      "27 Train Accuracy:  1.0 Validation Accuracy:  0.9774\n",
      "28 Train Accuracy:  0.94 Validation Accuracy:  0.9774\n",
      "29 Train Accuracy:  1.0 Validation Accuracy:  0.9782\n",
      "30 Train Accuracy:  0.98 Validation Accuracy:  0.9778\n",
      "31 Train Accuracy:  0.98 Validation Accuracy:  0.9774\n",
      "32 Train Accuracy:  0.98 Validation Accuracy:  0.9772\n",
      "33 Train Accuracy:  1.0 Validation Accuracy:  0.9792\n",
      "34 Train Accuracy:  1.0 Validation Accuracy:  0.9784\n",
      "35 Train Accuracy:  1.0 Validation Accuracy:  0.979\n",
      "36 Train Accuracy:  0.98 Validation Accuracy:  0.9794\n",
      "37 Train Accuracy:  0.98 Validation Accuracy:  0.9794\n",
      "38 Train Accuracy:  1.0 Validation Accuracy:  0.979\n",
      "39 Train Accuracy:  1.0 Validation Accuracy:  0.98\n",
      "40 Train Accuracy:  1.0 Validation Accuracy:  0.9802\n",
      "41 Train Accuracy:  1.0 Validation Accuracy:  0.9796\n",
      "42 Train Accuracy:  1.0 Validation Accuracy:  0.979\n",
      "43 Train Accuracy:  1.0 Validation Accuracy:  0.9806\n",
      "44 Train Accuracy:  1.0 Validation Accuracy:  0.98\n",
      "45 Train Accuracy:  0.98 Validation Accuracy:  0.9802\n",
      "46 Train Accuracy:  1.0 Validation Accuracy:  0.9802\n",
      "47 Train Accuracy:  1.0 Validation Accuracy:  0.9802\n",
      "48 Train Accuracy:  1.0 Validation Accuracy:  0.9796\n",
      "49 Train Accuracy:  1.0 Validation Accuracy:  0.9804\n",
      "50 Train Accuracy:  0.98 Validation Accuracy:  0.9802\n",
      "51 Train Accuracy:  1.0 Validation Accuracy:  0.9804\n",
      "52 Train Accuracy:  1.0 Validation Accuracy:  0.9804\n",
      "53 Train Accuracy:  1.0 Validation Accuracy:  0.9812\n",
      "54 Train Accuracy:  1.0 Validation Accuracy:  0.9812\n",
      "55 Train Accuracy:  1.0 Validation Accuracy:  0.981\n",
      "56 Train Accuracy:  1.0 Validation Accuracy:  0.9808\n",
      "57 Train Accuracy:  1.0 Validation Accuracy:  0.9808\n",
      "58 Train Accuracy:  1.0 Validation Accuracy:  0.9814\n",
      "59 Train Accuracy:  1.0 Validation Accuracy:  0.9798\n",
      "60 Train Accuracy:  1.0 Validation Accuracy:  0.9814\n",
      "61 Train Accuracy:  1.0 Validation Accuracy:  0.9814\n",
      "62 Train Accuracy:  1.0 Validation Accuracy:  0.9816\n",
      "63 Train Accuracy:  0.98 Validation Accuracy:  0.9814\n",
      "64 Train Accuracy:  1.0 Validation Accuracy:  0.9814\n",
      "65 Train Accuracy:  0.98 Validation Accuracy:  0.9818\n",
      "66 Train Accuracy:  1.0 Validation Accuracy:  0.9808\n",
      "67 Train Accuracy:  1.0 Validation Accuracy:  0.9818\n",
      "68 Train Accuracy:  1.0 Validation Accuracy:  0.9812\n",
      "69 Train Accuracy:  1.0 Validation Accuracy:  0.9814\n",
      "70 Train Accuracy:  1.0 Validation Accuracy:  0.9818\n",
      "71 Train Accuracy:  1.0 Validation Accuracy:  0.9816\n",
      "72 Train Accuracy:  1.0 Validation Accuracy:  0.9814\n",
      "73 Train Accuracy:  1.0 Validation Accuracy:  0.9808\n",
      "74 Train Accuracy:  1.0 Validation Accuracy:  0.9814\n",
      "75 Train Accuracy:  1.0 Validation Accuracy:  0.9812\n",
      "76 Train Accuracy:  1.0 Validation Accuracy:  0.9816\n",
      "77 Train Accuracy:  1.0 Validation Accuracy:  0.9816\n",
      "78 Train Accuracy:  1.0 Validation Accuracy:  0.9818\n",
      "79 Train Accuracy:  1.0 Validation Accuracy:  0.9816\n",
      "80 Train Accuracy:  1.0 Validation Accuracy:  0.981\n",
      "81 Train Accuracy:  0.98 Validation Accuracy:  0.982\n",
      "82 Train Accuracy:  1.0 Validation Accuracy:  0.9818\n",
      "83 Train Accuracy:  1.0 Validation Accuracy:  0.9818\n",
      "84 Train Accuracy:  1.0 Validation Accuracy:  0.9814\n",
      "85 Train Accuracy:  1.0 Validation Accuracy:  0.9818\n",
      "86 Train Accuracy:  1.0 Validation Accuracy:  0.9824\n",
      "87 Train Accuracy:  1.0 Validation Accuracy:  0.9814\n",
      "88 Train Accuracy:  1.0 Validation Accuracy:  0.9822\n",
      "89 Train Accuracy:  1.0 Validation Accuracy:  0.9816\n",
      "90 Train Accuracy:  1.0 Validation Accuracy:  0.9818\n",
      "91 Train Accuracy:  0.98 Validation Accuracy:  0.981\n",
      "92 Train Accuracy:  1.0 Validation Accuracy:  0.9818\n",
      "93 Train Accuracy:  1.0 Validation Accuracy:  0.9822\n",
      "94 Train Accuracy:  1.0 Validation Accuracy:  0.9818\n",
      "95 Train Accuracy:  1.0 Validation Accuracy:  0.982\n",
      "96 Train Accuracy:  1.0 Validation Accuracy:  0.9814\n",
      "97 Train Accuracy:  1.0 Validation Accuracy:  0.9818\n",
      "98 Train Accuracy:  1.0 Validation Accuracy:  0.9812\n",
      "99 Train Accuracy:  1.0 Validation Accuracy:  0.982\n"
     ]
    }
   ],
   "source": [
    "n_epochs = 100\n",
    "batch_size = 50\n",
    "\n",
    "with tf.Session() as sess:\n",
    "    init.run()\n",
    "    for epoch in range(n_epochs):\n",
    "        for iteration in range(mnist.train.num_examples // batch_size):\n",
    "            X_batch, y_batch = mnist.train.next_batch(batch_size)\n",
    "            sess.run(training_op, feed_dict={X: X_batch, y: y_batch})\n",
    "        acc_train = accuracy.eval(feed_dict={X: X_batch, y: y_batch})\n",
    "        acc_val = accuracy.eval(feed_dict={X: mnist.validation.images, \n",
    "                                           y: mnist.validation.labels})\n",
    "        \n",
    "        ## summary strings\n",
    "        acc_train_summary_str = acc_train_summary.eval(feed_dict={X: X_batch, y: y_batch})\n",
    "        acc_val_summary_str = acc_val_summary.eval(feed_dict={X: mnist.validation.images, \n",
    "                                                              y: mnist.validation.labels})\n",
    "        file_writer.add_summary(acc_train_summary_str, epoch)\n",
    "        file_writer.add_summary(acc_val_summary_str, epoch)\n",
    "        \n",
    "        print(epoch, \"Train Accuracy: \", acc_train, \n",
    "                     \"Validation Accuracy: \", acc_val)\n",
    "    \n",
    "    save_path = saver.save(sess, \"./tmp/ckpts/my_model_final.ckpt\")"
   ]
  },
  {
   "cell_type": "markdown",
   "metadata": {},
   "source": [
    "## Using the Neural Network"
   ]
  },
  {
   "cell_type": "code",
   "execution_count": null,
   "metadata": {},
   "outputs": [],
   "source": [
    "with tf.Session() as sess:\n",
    "    saver.restore(sess, \"./tmp/ckpts/my_model_final.ckpt\")\n",
    "    X_test = mnist.test.images\n",
    "    Z = logits.eval(feed_dict={X:X_test})\n",
    "    y_pred = np.argmax(Z, axis=1)"
   ]
  }
 ],
 "metadata": {
  "kernelspec": {
   "display_name": "Python 3",
   "language": "python",
   "name": "python3"
  },
  "language_info": {
   "codemirror_mode": {
    "name": "ipython",
    "version": 3
   },
   "file_extension": ".py",
   "mimetype": "text/x-python",
   "name": "python",
   "nbconvert_exporter": "python",
   "pygments_lexer": "ipython3",
   "version": "3.6.4"
  }
 },
 "nbformat": 4,
 "nbformat_minor": 2
}
